{
 "cells": [
  {
   "cell_type": "code",
   "execution_count": 14,
   "metadata": {},
   "outputs": [],
   "source": [
    "from pydantic import BaseModel\n",
    "from rich import print\n",
    "from rich.pretty import pprint\n",
    "from icecream import ic\n",
    "from typing import Optional\n",
    "from datetime import date\n",
    "from pydantic import Field\n",
    "from pydantic import ValidationError"
   ]
  },
  {
   "cell_type": "code",
   "execution_count": 6,
   "metadata": {},
   "outputs": [],
   "source": [
    "class Person(BaseModel):\n",
    "    first_name: str\n",
    "    last_name: str\n",
    "    age: int"
   ]
  },
  {
   "cell_type": "code",
   "execution_count": 20,
   "metadata": {},
   "outputs": [
    {
     "data": {
      "text/html": [
       "<pre style=\"white-space:pre;overflow-x:auto;line-height:normal;font-family:Menlo,'DejaVu Sans Mono',consolas,'Courier New',monospace\"><span style=\"color: #800080; text-decoration-color: #800080; font-weight: bold\">Person</span><span style=\"font-weight: bold\">(</span><span style=\"color: #808000; text-decoration-color: #808000\">first_name</span>=<span style=\"color: #008000; text-decoration-color: #008000\">'Isaac'</span>, <span style=\"color: #808000; text-decoration-color: #808000\">last_name</span>=<span style=\"color: #008000; text-decoration-color: #008000\">'Hamid'</span>, <span style=\"color: #808000; text-decoration-color: #808000\">age</span>=<span style=\"color: #008080; text-decoration-color: #008080; font-weight: bold\">78</span><span style=\"font-weight: bold\">)</span>\n",
       "</pre>\n"
      ],
      "text/plain": [
       "\u001b[1;35mPerson\u001b[0m\u001b[1m(\u001b[0m\u001b[33mfirst_name\u001b[0m=\u001b[32m'Isaac'\u001b[0m, \u001b[33mlast_name\u001b[0m=\u001b[32m'Hamid'\u001b[0m, \u001b[33mage\u001b[0m=\u001b[1;36m78\u001b[0m\u001b[1m)\u001b[0m\n"
      ]
     },
     "metadata": {},
     "output_type": "display_data"
    }
   ],
   "source": [
    "p = Person(first_name=\"Isaac\", last_name=\"Hamid\", age=78)\n",
    "print(p)"
   ]
  },
  {
   "cell_type": "code",
   "execution_count": 14,
   "metadata": {},
   "outputs": [
    {
     "data": {
      "text/html": [
       "<pre style=\"white-space:pre;overflow-x:auto;line-height:normal;font-family:Menlo,'DejaVu Sans Mono',consolas,'Courier New',monospace\"><span style=\"font-weight: bold\">[{</span><span style=\"color: #008000; text-decoration-color: #008000\">\"type\"</span>:<span style=\"color: #008000; text-decoration-color: #008000\">\"missing\"</span>,<span style=\"color: #008000; text-decoration-color: #008000\">\"loc\"</span>:<span style=\"font-weight: bold\">[</span><span style=\"color: #008000; text-decoration-color: #008000\">\"last_name\"</span><span style=\"font-weight: bold\">]</span>,<span style=\"color: #008000; text-decoration-color: #008000\">\"msg\"</span>:<span style=\"color: #008000; text-decoration-color: #008000\">\"Field </span>\n",
       "<span style=\"color: #008000; text-decoration-color: #008000\">required\"</span>,<span style=\"color: #008000; text-decoration-color: #008000\">\"input\"</span>:<span style=\"font-weight: bold\">{</span><span style=\"color: #008000; text-decoration-color: #008000\">\"first_name\"</span>:<span style=\"color: #008000; text-decoration-color: #008000\">\"hamid\"</span><span style=\"font-weight: bold\">}</span>,<span style=\"color: #008000; text-decoration-color: #008000\">\"url\"</span>:<span style=\"color: #008000; text-decoration-color: #008000\">\"https://errors.pydantic.dev/2.4/v/missing\"</span><span style=\"font-weight: bold\">}</span>,<span style=\"font-weight: bold\">{</span><span style=\"color: #008000; text-decoration-color: #008000\">\"type\"</span>:<span style=\"color: #008000; text-decoration-color: #008000\">\"missing\"</span>,<span style=\"color: #008000; text-decoration-color: #008000\">\"loc\"</span>\n",
       ":<span style=\"font-weight: bold\">[</span><span style=\"color: #008000; text-decoration-color: #008000\">\"age\"</span><span style=\"font-weight: bold\">]</span>,<span style=\"color: #008000; text-decoration-color: #008000\">\"msg\"</span>:<span style=\"color: #008000; text-decoration-color: #008000\">\"Field required\"</span>,<span style=\"color: #008000; text-decoration-color: #008000\">\"input\"</span>:<span style=\"font-weight: bold\">{</span><span style=\"color: #008000; text-decoration-color: #008000\">\"first_name\"</span>:<span style=\"color: #008000; text-decoration-color: #008000\">\"hamid\"</span><span style=\"font-weight: bold\">}</span>,<span style=\"color: #008000; text-decoration-color: #008000\">\"url\"</span>:<span style=\"color: #008000; text-decoration-color: #008000\">\"https://errors.pydantic.dev/2.4/v/missing\"</span><span style=\"font-weight: bold\">}]</span>\n",
       "</pre>\n"
      ],
      "text/plain": [
       "\u001b[1m[\u001b[0m\u001b[1m{\u001b[0m\u001b[32m\"type\"\u001b[0m:\u001b[32m\"missing\"\u001b[0m,\u001b[32m\"loc\"\u001b[0m:\u001b[1m[\u001b[0m\u001b[32m\"last_name\"\u001b[0m\u001b[1m]\u001b[0m,\u001b[32m\"msg\"\u001b[0m:\u001b[32m\"Field \u001b[0m\n",
       "\u001b[32mrequired\"\u001b[0m,\u001b[32m\"input\"\u001b[0m:\u001b[1m{\u001b[0m\u001b[32m\"first_name\"\u001b[0m:\u001b[32m\"hamid\"\u001b[0m\u001b[1m}\u001b[0m,\u001b[32m\"url\"\u001b[0m:\u001b[32m\"https://errors.pydantic.dev/2.4/v/missing\"\u001b[0m\u001b[1m}\u001b[0m,\u001b[1m{\u001b[0m\u001b[32m\"type\"\u001b[0m:\u001b[32m\"missing\"\u001b[0m,\u001b[32m\"loc\"\u001b[0m\n",
       ":\u001b[1m[\u001b[0m\u001b[32m\"age\"\u001b[0m\u001b[1m]\u001b[0m,\u001b[32m\"msg\"\u001b[0m:\u001b[32m\"Field required\"\u001b[0m,\u001b[32m\"input\"\u001b[0m:\u001b[1m{\u001b[0m\u001b[32m\"first_name\"\u001b[0m:\u001b[32m\"hamid\"\u001b[0m\u001b[1m}\u001b[0m,\u001b[32m\"url\"\u001b[0m:\u001b[32m\"https://errors.pydantic.dev/2.4/v/missing\"\u001b[0m\u001b[1m}\u001b[0m\u001b[1m]\u001b[0m\n"
      ]
     },
     "metadata": {},
     "output_type": "display_data"
    }
   ],
   "source": [
    "try:\n",
    "    Person(first_name = \"hamid\")\n",
    "except ValidationError as ex:\n",
    "    print(ex.json())\n"
   ]
  },
  {
   "cell_type": "code",
   "execution_count": 30,
   "metadata": {},
   "outputs": [],
   "source": [
    "class Person(BaseModel):\n",
    "    first_name: str = None\n",
    "    last_name: str\n",
    "    # age: int | None = None\n",
    "    # age: Optional[int] = None\n",
    "    age: int = None"
   ]
  },
  {
   "cell_type": "code",
   "execution_count": 32,
   "metadata": {},
   "outputs": [],
   "source": [
    "try:\n",
    "   p = Person(first_name=\"Isaac\", last_name=\"Hamid\", age=78)\n",
    "except ValidationError as ex:\n",
    "    print(ex)\n"
   ]
  },
  {
   "cell_type": "code",
   "execution_count": 34,
   "metadata": {},
   "outputs": [
    {
     "data": {
      "text/plain": [
       "{'first_name': 'Isaac', 'last_name': 'Hamid', 'age': 78}"
      ]
     },
     "execution_count": 34,
     "metadata": {},
     "output_type": "execute_result"
    }
   ],
   "source": [
    "p.model_dump() # dump the model as dictionary"
   ]
  },
  {
   "cell_type": "code",
   "execution_count": 36,
   "metadata": {},
   "outputs": [
    {
     "data": {
      "text/plain": [
       "'{\"first_name\":\"Isaac\",\"last_name\":\"Hamid\",\"age\":78}'"
      ]
     },
     "execution_count": 36,
     "metadata": {},
     "output_type": "execute_result"
    }
   ],
   "source": [
    "p.model_dump_json()"
   ]
  },
  {
   "cell_type": "code",
   "execution_count": 37,
   "metadata": {},
   "outputs": [
    {
     "data": {
      "text/plain": [
       "{'last_name': 'Hamid', 'age': 78}"
      ]
     },
     "execution_count": 37,
     "metadata": {},
     "output_type": "execute_result"
    }
   ],
   "source": [
    "p.model_dump(exclude = {\"first_name\"})"
   ]
  },
  {
   "cell_type": "code",
   "execution_count": 41,
   "metadata": {},
   "outputs": [
    {
     "data": {
      "text/plain": [
       "'{\"first_name\":\"Isaac\",\"age\":78}'"
      ]
     },
     "execution_count": 41,
     "metadata": {},
     "output_type": "execute_result"
    }
   ],
   "source": [
    "p.model_dump_json(exclude = {\"last_name\"})"
   ]
  },
  {
   "cell_type": "code",
   "execution_count": 43,
   "metadata": {},
   "outputs": [],
   "source": [
    "from datetime import date"
   ]
  },
  {
   "cell_type": "code",
   "execution_count": 44,
   "metadata": {},
   "outputs": [],
   "source": [
    "class Person(BaseModel):\n",
    "    first_name: str = None\n",
    "    last_name: str\n",
    "    # age: int | None = None\n",
    "    # age: Optional[int] = None\n",
    "    age: int = None\n",
    "    dob: date \n",
    "    "
   ]
  },
  {
   "cell_type": "code",
   "execution_count": 12,
   "metadata": {},
   "outputs": [],
   "source": [
    "data = {\n",
    "    \"first_name\": \"Isaac\",\n",
    "    \"last_name\": \"Newton\",\n",
    "    \"dob\": date(1643, 1, 4)\n",
    "}"
   ]
  },
  {
   "cell_type": "code",
   "execution_count": 50,
   "metadata": {},
   "outputs": [
    {
     "data": {
      "text/html": [
       "<pre style=\"white-space:pre;overflow-x:auto;line-height:normal;font-family:Menlo,'DejaVu Sans Mono',consolas,'Courier New',monospace\"><span style=\"color: #800080; text-decoration-color: #800080; font-weight: bold\">Person</span><span style=\"font-weight: bold\">(</span><span style=\"color: #808000; text-decoration-color: #808000\">first_name</span>=<span style=\"color: #008000; text-decoration-color: #008000\">'Isaac'</span>, <span style=\"color: #808000; text-decoration-color: #808000\">last_name</span>=<span style=\"color: #008000; text-decoration-color: #008000\">'Newton'</span>, <span style=\"color: #808000; text-decoration-color: #808000\">age</span>=<span style=\"color: #800080; text-decoration-color: #800080; font-style: italic\">None</span>, <span style=\"color: #808000; text-decoration-color: #808000\">dob</span>=<span style=\"color: #800080; text-decoration-color: #800080; font-weight: bold\">datetime</span><span style=\"color: #800080; text-decoration-color: #800080; font-weight: bold\">.date</span><span style=\"font-weight: bold\">(</span><span style=\"color: #008080; text-decoration-color: #008080; font-weight: bold\">1643</span>, <span style=\"color: #008080; text-decoration-color: #008080; font-weight: bold\">1</span>, <span style=\"color: #008080; text-decoration-color: #008080; font-weight: bold\">4</span><span style=\"font-weight: bold\">))</span>\n",
       "</pre>\n"
      ],
      "text/plain": [
       "\u001b[1;35mPerson\u001b[0m\u001b[1m(\u001b[0m\u001b[33mfirst_name\u001b[0m=\u001b[32m'Isaac'\u001b[0m, \u001b[33mlast_name\u001b[0m=\u001b[32m'Newton'\u001b[0m, \u001b[33mage\u001b[0m=\u001b[3;35mNone\u001b[0m, \u001b[33mdob\u001b[0m=\u001b[1;35mdatetime\u001b[0m\u001b[1;35m.date\u001b[0m\u001b[1m(\u001b[0m\u001b[1;36m1643\u001b[0m, \u001b[1;36m1\u001b[0m, \u001b[1;36m4\u001b[0m\u001b[1m)\u001b[0m\u001b[1m)\u001b[0m\n"
      ]
     },
     "metadata": {},
     "output_type": "display_data"
    }
   ],
   "source": [
    "p = Person.model_validate(data) # deserializing a dict\n",
    "print(p)"
   ]
  },
  {
   "cell_type": "code",
   "execution_count": 52,
   "metadata": {},
   "outputs": [],
   "source": [
    "json_data= '''\n",
    "{\n",
    "    \"first_name\": \"Isaac\",\n",
    "    \"last_name\": \"Newton\",\n",
    "    \"dob\": \"1643-01-04\"\n",
    "}\n",
    "'''"
   ]
  },
  {
   "cell_type": "code",
   "execution_count": 54,
   "metadata": {},
   "outputs": [
    {
     "data": {
      "text/html": [
       "<pre style=\"white-space:pre;overflow-x:auto;line-height:normal;font-family:Menlo,'DejaVu Sans Mono',consolas,'Courier New',monospace\"><span style=\"color: #800080; text-decoration-color: #800080; font-weight: bold\">Person</span><span style=\"font-weight: bold\">(</span><span style=\"color: #808000; text-decoration-color: #808000\">first_name</span>=<span style=\"color: #008000; text-decoration-color: #008000\">'Isaac'</span>, <span style=\"color: #808000; text-decoration-color: #808000\">last_name</span>=<span style=\"color: #008000; text-decoration-color: #008000\">'Newton'</span>, <span style=\"color: #808000; text-decoration-color: #808000\">age</span>=<span style=\"color: #800080; text-decoration-color: #800080; font-style: italic\">None</span>, <span style=\"color: #808000; text-decoration-color: #808000\">dob</span>=<span style=\"color: #800080; text-decoration-color: #800080; font-weight: bold\">datetime</span><span style=\"color: #800080; text-decoration-color: #800080; font-weight: bold\">.date</span><span style=\"font-weight: bold\">(</span><span style=\"color: #008080; text-decoration-color: #008080; font-weight: bold\">1643</span>, <span style=\"color: #008080; text-decoration-color: #008080; font-weight: bold\">1</span>, <span style=\"color: #008080; text-decoration-color: #008080; font-weight: bold\">4</span><span style=\"font-weight: bold\">))</span>\n",
       "</pre>\n"
      ],
      "text/plain": [
       "\u001b[1;35mPerson\u001b[0m\u001b[1m(\u001b[0m\u001b[33mfirst_name\u001b[0m=\u001b[32m'Isaac'\u001b[0m, \u001b[33mlast_name\u001b[0m=\u001b[32m'Newton'\u001b[0m, \u001b[33mage\u001b[0m=\u001b[3;35mNone\u001b[0m, \u001b[33mdob\u001b[0m=\u001b[1;35mdatetime\u001b[0m\u001b[1;35m.date\u001b[0m\u001b[1m(\u001b[0m\u001b[1;36m1643\u001b[0m, \u001b[1;36m1\u001b[0m, \u001b[1;36m4\u001b[0m\u001b[1m)\u001b[0m\u001b[1m)\u001b[0m\n"
      ]
     },
     "metadata": {},
     "output_type": "display_data"
    }
   ],
   "source": [
    "p = Person.model_validate_json(json_data) # deserializing a dict\n",
    "print(p)"
   ]
  },
  {
   "cell_type": "code",
   "execution_count": 9,
   "metadata": {},
   "outputs": [],
   "source": [
    "class Person(BaseModel):\n",
    "    first_name: str = Field(default=None, alias=\"firstName\")\n",
    "    last_name: str = Field(alias = \"lastName\")\n",
    "    # age: int | None = None\n",
    "    # age: Optional[int] = None\n",
    "    age: int = None\n",
    "    dob: date"
   ]
  },
  {
   "cell_type": "code",
   "execution_count": 15,
   "metadata": {},
   "outputs": [
    {
     "data": {
      "text/html": [
       "<pre style=\"white-space:pre;overflow-x:auto;line-height:normal;font-family:Menlo,'DejaVu Sans Mono',consolas,'Courier New',monospace\"><span style=\"font-weight: bold\">[{</span><span style=\"color: #008000; text-decoration-color: #008000\">\"type\"</span>:<span style=\"color: #008000; text-decoration-color: #008000\">\"missing\"</span>,<span style=\"color: #008000; text-decoration-color: #008000\">\"loc\"</span>:<span style=\"font-weight: bold\">[</span><span style=\"color: #008000; text-decoration-color: #008000\">\"lastName\"</span><span style=\"font-weight: bold\">]</span>,<span style=\"color: #008000; text-decoration-color: #008000\">\"msg\"</span>:<span style=\"color: #008000; text-decoration-color: #008000\">\"Field </span>\n",
       "<span style=\"color: #008000; text-decoration-color: #008000\">required\"</span>,<span style=\"color: #008000; text-decoration-color: #008000\">\"input\"</span>:<span style=\"font-weight: bold\">{</span><span style=\"color: #008000; text-decoration-color: #008000\">\"first_name\"</span>:<span style=\"color: #008000; text-decoration-color: #008000\">\"Isaac\"</span>,<span style=\"color: #008000; text-decoration-color: #008000\">\"last_name\"</span>:<span style=\"color: #008000; text-decoration-color: #008000\">\"Newton\"</span>,<span style=\"color: #008000; text-decoration-color: #008000\">\"dob\"</span>:<span style=\"color: #008000; text-decoration-color: #008000\">\"1643-01-04\"</span><span style=\"font-weight: bold\">}</span>,<span style=\"color: #008000; text-decoration-color: #008000\">\"url\"</span>:<span style=\"color: #008000; text-decoration-color: #008000\">\"https://errors.pydantic.dev</span>\n",
       "<span style=\"color: #008000; text-decoration-color: #008000\">/2.4/v/missing\"</span><span style=\"font-weight: bold\">}]</span>\n",
       "</pre>\n"
      ],
      "text/plain": [
       "\u001b[1m[\u001b[0m\u001b[1m{\u001b[0m\u001b[32m\"type\"\u001b[0m:\u001b[32m\"missing\"\u001b[0m,\u001b[32m\"loc\"\u001b[0m:\u001b[1m[\u001b[0m\u001b[32m\"lastName\"\u001b[0m\u001b[1m]\u001b[0m,\u001b[32m\"msg\"\u001b[0m:\u001b[32m\"Field \u001b[0m\n",
       "\u001b[32mrequired\"\u001b[0m,\u001b[32m\"input\"\u001b[0m:\u001b[1m{\u001b[0m\u001b[32m\"first_name\"\u001b[0m:\u001b[32m\"Isaac\"\u001b[0m,\u001b[32m\"last_name\"\u001b[0m:\u001b[32m\"Newton\"\u001b[0m,\u001b[32m\"dob\"\u001b[0m:\u001b[32m\"1643-01-04\"\u001b[0m\u001b[1m}\u001b[0m,\u001b[32m\"url\"\u001b[0m:\u001b[32m\"https://errors.pydantic.dev\u001b[0m\n",
       "\u001b[32m/2.4/v/missing\"\u001b[0m\u001b[1m}\u001b[0m\u001b[1m]\u001b[0m\n"
      ]
     },
     "metadata": {},
     "output_type": "display_data"
    }
   ],
   "source": [
    "try:\n",
    "    p = Person.model_validate(data) # deserializing a dict\n",
    "except ValidationError as ex:\n",
    "    print(ex.json())"
   ]
  },
  {
   "cell_type": "code",
   "execution_count": 16,
   "metadata": {},
   "outputs": [],
   "source": [
    "data2 = {\n",
    "    \"firstName\": \"Isaac\",\n",
    "    \"lastName\": \"Newton\",\n",
    "    \"dob\": date(1643, 1, 4)\n",
    "}\n",
    "\n",
    "try:\n",
    "    p = Person.model_validate(data2) # deserializing a dict\n",
    "except ValidationError as ex:\n",
    "    print(ex)"
   ]
  },
  {
   "cell_type": "code",
   "execution_count": 18,
   "metadata": {},
   "outputs": [
    {
     "data": {
      "text/plain": [
       "{'first_name': 'Isaac',\n",
       " 'last_name': 'Newton',\n",
       " 'age': None,\n",
       " 'dob': datetime.date(1643, 1, 4)}"
      ]
     },
     "execution_count": 18,
     "metadata": {},
     "output_type": "execute_result"
    }
   ],
   "source": [
    "p.model_dump()"
   ]
  },
  {
   "cell_type": "code",
   "execution_count": 41,
   "metadata": {},
   "outputs": [],
   "source": [
    "class Person(BaseModel):\n",
    "    first_name: str = Field(default=None, alias=\"firstName\")\n",
    "    last_name: str = Field(alias = \"lastName\")\n",
    "    # age: int | None = None\n",
    "    # age: Optional[int] = None\n",
    "    age: int = None\n",
    "    dob: date\n",
    "\n",
    "    class Config:\n",
    "        populate_by_name = True\n",
    "        extra = \"allow\"\n",
    "        extra = \"forbid\""
   ]
  },
  {
   "cell_type": "code",
   "execution_count": 22,
   "metadata": {},
   "outputs": [
    {
     "data": {
      "text/plain": [
       "Person(first_name=None, last_name='Adesokan', age=None, dob=datetime.date(1643, 1, 4))"
      ]
     },
     "execution_count": 22,
     "metadata": {},
     "output_type": "execute_result"
    }
   ],
   "source": [
    "Person(first_name = \"Hamid\", lastName = \"Adesokan\", dob = \"1643-01-04\")"
   ]
  },
  {
   "cell_type": "code",
   "execution_count": 24,
   "metadata": {},
   "outputs": [
    {
     "data": {
      "text/plain": [
       "Person(first_name='Isaac', last_name='Newton', age=None, dob=datetime.date(1643, 1, 4))"
      ]
     },
     "execution_count": 24,
     "metadata": {},
     "output_type": "execute_result"
    }
   ],
   "source": [
    "Person.model_validate(data2)"
   ]
  },
  {
   "cell_type": "code",
   "execution_count": 28,
   "metadata": {},
   "outputs": [
    {
     "data": {
      "text/html": [
       "<pre style=\"white-space:pre;overflow-x:auto;line-height:normal;font-family:Menlo,'DejaVu Sans Mono',consolas,'Courier New',monospace\"><span style=\"color: #800080; text-decoration-color: #800080; font-weight: bold\">Person</span><span style=\"font-weight: bold\">(</span><span style=\"color: #808000; text-decoration-color: #808000\">first_name</span>=<span style=\"color: #008000; text-decoration-color: #008000\">'Hamid'</span>, <span style=\"color: #808000; text-decoration-color: #808000\">last_name</span>=<span style=\"color: #008000; text-decoration-color: #008000\">'Adesokan'</span>, <span style=\"color: #808000; text-decoration-color: #808000\">age</span>=<span style=\"color: #800080; text-decoration-color: #800080; font-style: italic\">None</span>, <span style=\"color: #808000; text-decoration-color: #808000\">dob</span>=<span style=\"color: #800080; text-decoration-color: #800080; font-weight: bold\">datetime</span><span style=\"color: #800080; text-decoration-color: #800080; font-weight: bold\">.date</span><span style=\"font-weight: bold\">(</span><span style=\"color: #008080; text-decoration-color: #008080; font-weight: bold\">1643</span>, <span style=\"color: #008080; text-decoration-color: #008080; font-weight: bold\">1</span>, <span style=\"color: #008080; text-decoration-color: #008080; font-weight: bold\">4</span><span style=\"font-weight: bold\">))</span>\n",
       "</pre>\n"
      ],
      "text/plain": [
       "\u001b[1;35mPerson\u001b[0m\u001b[1m(\u001b[0m\u001b[33mfirst_name\u001b[0m=\u001b[32m'Hamid'\u001b[0m, \u001b[33mlast_name\u001b[0m=\u001b[32m'Adesokan'\u001b[0m, \u001b[33mage\u001b[0m=\u001b[3;35mNone\u001b[0m, \u001b[33mdob\u001b[0m=\u001b[1;35mdatetime\u001b[0m\u001b[1;35m.date\u001b[0m\u001b[1m(\u001b[0m\u001b[1;36m1643\u001b[0m, \u001b[1;36m1\u001b[0m, \u001b[1;36m4\u001b[0m\u001b[1m)\u001b[0m\u001b[1m)\u001b[0m\n"
      ]
     },
     "metadata": {},
     "output_type": "display_data"
    }
   ],
   "source": [
    "p = Person(first_name = \"Hamid\", last_name = \"Adesokan\", dob = \"1643-01-04\")\n",
    "print(p)"
   ]
  },
  {
   "cell_type": "code",
   "execution_count": 30,
   "metadata": {},
   "outputs": [
    {
     "data": {
      "text/plain": [
       "{'first_name': 'Hamid',\n",
       " 'last_name': 'Adesokan',\n",
       " 'age': None,\n",
       " 'dob': datetime.date(1643, 1, 4)}"
      ]
     },
     "execution_count": 30,
     "metadata": {},
     "output_type": "execute_result"
    }
   ],
   "source": [
    "# p.model_dump(by_alias = True)\n",
    "p.model_dump()"
   ]
  },
  {
   "cell_type": "code",
   "execution_count": 31,
   "metadata": {},
   "outputs": [
    {
     "data": {
      "text/plain": [
       "{'first_name': 'Isaac',\n",
       " 'last_name': 'Newton',\n",
       " 'dob': datetime.date(1643, 1, 4),\n",
       " 'junk': 'extra field'}"
      ]
     },
     "execution_count": 31,
     "metadata": {},
     "output_type": "execute_result"
    }
   ],
   "source": [
    "data_junk = {**data, \"junk\": \"extra field\"}\n",
    "data_junk"
   ]
  },
  {
   "cell_type": "code",
   "execution_count": 32,
   "metadata": {},
   "outputs": [
    {
     "data": {
      "text/plain": [
       "True"
      ]
     },
     "execution_count": 32,
     "metadata": {},
     "output_type": "execute_result"
    }
   ],
   "source": [
    "hasattr(p, \"first_name\")"
   ]
  },
  {
   "cell_type": "code",
   "execution_count": 42,
   "metadata": {},
   "outputs": [
    {
     "ename": "ValidationError",
     "evalue": "1 validation error for Person\njunk\n  Extra inputs are not permitted [type=extra_forbidden, input_value='extra field', input_type=str]\n    For further information visit https://errors.pydantic.dev/2.4/v/extra_forbidden",
     "output_type": "error",
     "traceback": [
      "\u001b[0;31m---------------------------------------------------------------------------\u001b[0m",
      "\u001b[0;31mValidationError\u001b[0m                           Traceback (most recent call last)",
      "\u001b[1;32m/workspaces/pydantic-in-action/pydantic01.ipynb Cell 28\u001b[0m line \u001b[0;36m1\n\u001b[0;32m----> <a href='vscode-notebook-cell://codespaces%2Bcautious-space-trout-gvvx6xr6q429j5r/workspaces/pydantic-in-action/pydantic01.ipynb#X44sdnNjb2RlLXJlbW90ZQ%3D%3D?line=0'>1</a>\u001b[0m p \u001b[39m=\u001b[39m Person(\u001b[39m*\u001b[39;49m\u001b[39m*\u001b[39;49mdata_junk)\n",
      "File \u001b[0;32m~/.venv/lib/python3.10/site-packages/pydantic/main.py:164\u001b[0m, in \u001b[0;36mBaseModel.__init__\u001b[0;34m(__pydantic_self__, **data)\u001b[0m\n\u001b[1;32m    162\u001b[0m \u001b[39m# `__tracebackhide__` tells pytest and some other tools to omit this function from tracebacks\u001b[39;00m\n\u001b[1;32m    163\u001b[0m __tracebackhide__ \u001b[39m=\u001b[39m \u001b[39mTrue\u001b[39;00m\n\u001b[0;32m--> 164\u001b[0m __pydantic_self__\u001b[39m.\u001b[39;49m__pydantic_validator__\u001b[39m.\u001b[39;49mvalidate_python(data, self_instance\u001b[39m=\u001b[39;49m__pydantic_self__)\n",
      "\u001b[0;31mValidationError\u001b[0m: 1 validation error for Person\njunk\n  Extra inputs are not permitted [type=extra_forbidden, input_value='extra field', input_type=str]\n    For further information visit https://errors.pydantic.dev/2.4/v/extra_forbidden"
     ]
    }
   ],
   "source": [
    "p = Person(**data_junk)"
   ]
  },
  {
   "cell_type": "code",
   "execution_count": 37,
   "metadata": {},
   "outputs": [
    {
     "data": {
      "text/plain": [
       "Person(first_name='Isaac', last_name='Newton', age=None, dob=datetime.date(1643, 1, 4), junk='extra field')"
      ]
     },
     "execution_count": 37,
     "metadata": {},
     "output_type": "execute_result"
    }
   ],
   "source": [
    "Person.model_validate(data_junk)"
   ]
  },
  {
   "cell_type": "code",
   "execution_count": 40,
   "metadata": {},
   "outputs": [
    {
     "data": {
      "text/plain": [
       "{'first_name': 'Isaac',\n",
       " 'last_name': 'Newton',\n",
       " 'age': None,\n",
       " 'dob': datetime.date(1643, 1, 4),\n",
       " 'junk': 'extra field'}"
      ]
     },
     "execution_count": 40,
     "metadata": {},
     "output_type": "execute_result"
    }
   ],
   "source": [
    "p.model_dump()"
   ]
  },
  {
   "cell_type": "code",
   "execution_count": 43,
   "metadata": {},
   "outputs": [],
   "source": [
    "def snake_to_camel_case(value: str) -> str:\n",
    "    if not isinstance(value, str):\n",
    "        raise ValueError(\"Value must be a string\")\n",
    "    words = value.split('_')\n",
    "    value = \"\".join(word.title() for word in words if word )\n",
    "\n",
    "    return f\"{value[0].lower()}{value[1:]}\"\n"
   ]
  },
  {
   "cell_type": "code",
   "execution_count": 45,
   "metadata": {},
   "outputs": [
    {
     "data": {
      "text/plain": [
       "'firstName'"
      ]
     },
     "execution_count": 45,
     "metadata": {},
     "output_type": "execute_result"
    }
   ],
   "source": [
    "snake_to_camel_case(\"first_name\")"
   ]
  },
  {
   "cell_type": "code",
   "execution_count": 47,
   "metadata": {},
   "outputs": [],
   "source": [
    "class CustomeBaseModel(BaseModel):\n",
    "    class Config:\n",
    "        alias_generator = snake_to_camel_case\n",
    "        extra = \"forbid\"\n",
    "        populate_by_name = True\n",
    "\n",
    "class Person(CustomeBaseModel):\n",
    "    first_name: str = None\n",
    "    last_name: str \n",
    "    # age: int | None = None\n",
    "    # age: Optional[int] = None\n",
    "    age: int = None\n",
    "    dob: date = None"
   ]
  },
  {
   "cell_type": "code",
   "execution_count": 52,
   "metadata": {},
   "outputs": [
    {
     "ename": "ValidationError",
     "evalue": "1 validation error for Person\njunk\n  Extra inputs are not permitted [type=extra_forbidden, input_value='hjjj', input_type=str]\n    For further information visit https://errors.pydantic.dev/2.4/v/extra_forbidden",
     "output_type": "error",
     "traceback": [
      "\u001b[0;31m---------------------------------------------------------------------------\u001b[0m",
      "\u001b[0;31mValidationError\u001b[0m                           Traceback (most recent call last)",
      "\u001b[1;32m/workspaces/pydantic-in-action/pydantic01.ipynb Cell 34\u001b[0m line \u001b[0;36m1\n\u001b[0;32m----> <a href='vscode-notebook-cell://codespaces%2Bcautious-space-trout-gvvx6xr6q429j5r/workspaces/pydantic-in-action/pydantic01.ipynb#X50sdnNjb2RlLXJlbW90ZQ%3D%3D?line=0'>1</a>\u001b[0m p \u001b[39m=\u001b[39m Person(first_name\u001b[39m=\u001b[39;49m\u001b[39m\"\u001b[39;49m\u001b[39misaac\u001b[39;49m\u001b[39m\"\u001b[39;49m, lastName\u001b[39m=\u001b[39;49m\u001b[39m\"\u001b[39;49m\u001b[39mIsrael\u001b[39;49m\u001b[39m\"\u001b[39;49m, junk \u001b[39m=\u001b[39;49m \u001b[39m\"\u001b[39;49m\u001b[39mhjjj\u001b[39;49m\u001b[39m\"\u001b[39;49m)\n\u001b[1;32m      <a href='vscode-notebook-cell://codespaces%2Bcautious-space-trout-gvvx6xr6q429j5r/workspaces/pydantic-in-action/pydantic01.ipynb#X50sdnNjb2RlLXJlbW90ZQ%3D%3D?line=1'>2</a>\u001b[0m \u001b[39mprint\u001b[39m(p)\n",
      "File \u001b[0;32m~/.venv/lib/python3.10/site-packages/pydantic/main.py:164\u001b[0m, in \u001b[0;36mBaseModel.__init__\u001b[0;34m(__pydantic_self__, **data)\u001b[0m\n\u001b[1;32m    162\u001b[0m \u001b[39m# `__tracebackhide__` tells pytest and some other tools to omit this function from tracebacks\u001b[39;00m\n\u001b[1;32m    163\u001b[0m __tracebackhide__ \u001b[39m=\u001b[39m \u001b[39mTrue\u001b[39;00m\n\u001b[0;32m--> 164\u001b[0m __pydantic_self__\u001b[39m.\u001b[39;49m__pydantic_validator__\u001b[39m.\u001b[39;49mvalidate_python(data, self_instance\u001b[39m=\u001b[39;49m__pydantic_self__)\n",
      "\u001b[0;31mValidationError\u001b[0m: 1 validation error for Person\njunk\n  Extra inputs are not permitted [type=extra_forbidden, input_value='hjjj', input_type=str]\n    For further information visit https://errors.pydantic.dev/2.4/v/extra_forbidden"
     ]
    }
   ],
   "source": [
    "p = Person(first_name=\"isaac\", lastName=\"Israel\", junk = \"hjjj\")\n",
    "print(p)"
   ]
  },
  {
   "cell_type": "code",
   "execution_count": 57,
   "metadata": {},
   "outputs": [],
   "source": [
    "from pydantic import conint, constr"
   ]
  },
  {
   "cell_type": "code",
   "execution_count": 54,
   "metadata": {},
   "outputs": [],
   "source": [
    "class Test(CustomeBaseModel):\n",
    "    age: conint(gt=0, le=150)"
   ]
  },
  {
   "cell_type": "code",
   "execution_count": 68,
   "metadata": {},
   "outputs": [],
   "source": [
    "class Test(CustomeBaseModel):\n",
    "    first_name: str = None\n",
    "    last_name: constr(strip_whitespace=True, strict=True, min_length = 2)"
   ]
  },
  {
   "cell_type": "code",
   "execution_count": 70,
   "metadata": {},
   "outputs": [
    {
     "ename": "ValidationError",
     "evalue": "1 validation error for Test\nlast_name\n  Input should be a valid string [type=string_type, input_value=100, input_type=int]\n    For further information visit https://errors.pydantic.dev/2.4/v/string_type",
     "output_type": "error",
     "traceback": [
      "\u001b[0;31m---------------------------------------------------------------------------\u001b[0m",
      "\u001b[0;31mValidationError\u001b[0m                           Traceback (most recent call last)",
      "\u001b[1;32m/workspaces/pydantic-in-action/pydantic01.ipynb Cell 38\u001b[0m line \u001b[0;36m1\n\u001b[0;32m----> <a href='vscode-notebook-cell://codespaces%2Bcautious-space-trout-gvvx6xr6q429j5r/workspaces/pydantic-in-action/pydantic01.ipynb#X54sdnNjb2RlLXJlbW90ZQ%3D%3D?line=0'>1</a>\u001b[0m p \u001b[39m=\u001b[39m Test(first_name \u001b[39m=\u001b[39;49m \u001b[39m\"\u001b[39;49m\u001b[39mHamid\u001b[39;49m\u001b[39m\"\u001b[39;49m, last_name \u001b[39m=\u001b[39;49m \u001b[39m100\u001b[39;49m)\n\u001b[1;32m      <a href='vscode-notebook-cell://codespaces%2Bcautious-space-trout-gvvx6xr6q429j5r/workspaces/pydantic-in-action/pydantic01.ipynb#X54sdnNjb2RlLXJlbW90ZQ%3D%3D?line=1'>2</a>\u001b[0m \u001b[39mprint\u001b[39m(p)\n",
      "File \u001b[0;32m~/.venv/lib/python3.10/site-packages/pydantic/main.py:164\u001b[0m, in \u001b[0;36mBaseModel.__init__\u001b[0;34m(__pydantic_self__, **data)\u001b[0m\n\u001b[1;32m    162\u001b[0m \u001b[39m# `__tracebackhide__` tells pytest and some other tools to omit this function from tracebacks\u001b[39;00m\n\u001b[1;32m    163\u001b[0m __tracebackhide__ \u001b[39m=\u001b[39m \u001b[39mTrue\u001b[39;00m\n\u001b[0;32m--> 164\u001b[0m __pydantic_self__\u001b[39m.\u001b[39;49m__pydantic_validator__\u001b[39m.\u001b[39;49mvalidate_python(data, self_instance\u001b[39m=\u001b[39;49m__pydantic_self__)\n",
      "\u001b[0;31mValidationError\u001b[0m: 1 validation error for Test\nlast_name\n  Input should be a valid string [type=string_type, input_value=100, input_type=int]\n    For further information visit https://errors.pydantic.dev/2.4/v/string_type"
     ]
    }
   ],
   "source": [
    "p = Test(first_name = \"Hamid\", last_name = 100)\n",
    "print(p)"
   ]
  },
  {
   "cell_type": "code",
   "execution_count": 74,
   "metadata": {},
   "outputs": [],
   "source": [
    "from pydantic import field_validator\n",
    "class Test(CustomeBaseModel):\n",
    "    hash_tag: str\n",
    "\n",
    "    @field_validator('hash_tag')\n",
    "    def validate_hash_tag(cls, value):\n",
    "        if not value.startswith('#'):\n",
    "            raise ValueError(\"hash tage must start with #\")\n",
    "        return value\n",
    "\n"
   ]
  },
  {
   "cell_type": "code",
   "execution_count": 75,
   "metadata": {},
   "outputs": [
    {
     "data": {
      "text/html": [
       "<pre style=\"white-space:pre;overflow-x:auto;line-height:normal;font-family:Menlo,'DejaVu Sans Mono',consolas,'Courier New',monospace\"><span style=\"color: #800080; text-decoration-color: #800080; font-weight: bold\">Test</span><span style=\"font-weight: bold\">(</span><span style=\"color: #808000; text-decoration-color: #808000\">hash_tag</span>=<span style=\"color: #008000; text-decoration-color: #008000\">'#effff'</span><span style=\"font-weight: bold\">)</span>\n",
       "</pre>\n"
      ],
      "text/plain": [
       "\u001b[1;35mTest\u001b[0m\u001b[1m(\u001b[0m\u001b[33mhash_tag\u001b[0m=\u001b[32m'#effff'\u001b[0m\u001b[1m)\u001b[0m\n"
      ]
     },
     "metadata": {},
     "output_type": "display_data"
    }
   ],
   "source": [
    "t = Test(hash_tag = \"#effff\")\n",
    "print(t)"
   ]
  },
  {
   "cell_type": "code",
   "execution_count": 76,
   "metadata": {},
   "outputs": [
    {
     "ename": "ValidationError",
     "evalue": "1 validation error for Test\nhash_tag\n  Value error, hash tage must start with # [type=value_error, input_value='effff', input_type=str]\n    For further information visit https://errors.pydantic.dev/2.4/v/value_error",
     "output_type": "error",
     "traceback": [
      "\u001b[0;31m---------------------------------------------------------------------------\u001b[0m",
      "\u001b[0;31mValidationError\u001b[0m                           Traceback (most recent call last)",
      "\u001b[1;32m/workspaces/pydantic-in-action/pydantic01.ipynb Cell 41\u001b[0m line \u001b[0;36m1\n\u001b[0;32m----> <a href='vscode-notebook-cell://codespaces%2Bcautious-space-trout-gvvx6xr6q429j5r/workspaces/pydantic-in-action/pydantic01.ipynb#X60sdnNjb2RlLXJlbW90ZQ%3D%3D?line=0'>1</a>\u001b[0m t \u001b[39m=\u001b[39m Test(hash_tag \u001b[39m=\u001b[39;49m \u001b[39m\"\u001b[39;49m\u001b[39meffff\u001b[39;49m\u001b[39m\"\u001b[39;49m)\n\u001b[1;32m      <a href='vscode-notebook-cell://codespaces%2Bcautious-space-trout-gvvx6xr6q429j5r/workspaces/pydantic-in-action/pydantic01.ipynb#X60sdnNjb2RlLXJlbW90ZQ%3D%3D?line=1'>2</a>\u001b[0m \u001b[39mprint\u001b[39m(t)\n",
      "File \u001b[0;32m~/.venv/lib/python3.10/site-packages/pydantic/main.py:164\u001b[0m, in \u001b[0;36mBaseModel.__init__\u001b[0;34m(__pydantic_self__, **data)\u001b[0m\n\u001b[1;32m    162\u001b[0m \u001b[39m# `__tracebackhide__` tells pytest and some other tools to omit this function from tracebacks\u001b[39;00m\n\u001b[1;32m    163\u001b[0m __tracebackhide__ \u001b[39m=\u001b[39m \u001b[39mTrue\u001b[39;00m\n\u001b[0;32m--> 164\u001b[0m __pydantic_self__\u001b[39m.\u001b[39;49m__pydantic_validator__\u001b[39m.\u001b[39;49mvalidate_python(data, self_instance\u001b[39m=\u001b[39;49m__pydantic_self__)\n",
      "\u001b[0;31mValidationError\u001b[0m: 1 validation error for Test\nhash_tag\n  Value error, hash tage must start with # [type=value_error, input_value='effff', input_type=str]\n    For further information visit https://errors.pydantic.dev/2.4/v/value_error"
     ]
    }
   ],
   "source": [
    "t = Test(hash_tag = \"effff\")\n",
    "print(t)"
   ]
  },
  {
   "cell_type": "code",
   "execution_count": 77,
   "metadata": {},
   "outputs": [],
   "source": [
    "class Test(CustomeBaseModel):\n",
    "    hash_tag: constr(strip_whitespace=True, min_length=2, to_lower=True)\n",
    "\n",
    "    @field_validator('hash_tag')\n",
    "    def validate_hash_tag(cls, value):\n",
    "        if not value.startswith('#'):\n",
    "            return f\"#{value}\"\n",
    "        return value"
   ]
  },
  {
   "cell_type": "code",
   "execution_count": 79,
   "metadata": {},
   "outputs": [
    {
     "data": {
      "text/html": [
       "<pre style=\"white-space:pre;overflow-x:auto;line-height:normal;font-family:Menlo,'DejaVu Sans Mono',consolas,'Courier New',monospace\"><span style=\"color: #800080; text-decoration-color: #800080; font-weight: bold\">Test</span><span style=\"font-weight: bold\">(</span><span style=\"color: #808000; text-decoration-color: #808000\">hash_tag</span>=<span style=\"color: #008000; text-decoration-color: #008000\">'#gggg'</span><span style=\"font-weight: bold\">)</span>\n",
       "</pre>\n"
      ],
      "text/plain": [
       "\u001b[1;35mTest\u001b[0m\u001b[1m(\u001b[0m\u001b[33mhash_tag\u001b[0m=\u001b[32m'#gggg'\u001b[0m\u001b[1m)\u001b[0m\n"
      ]
     },
     "metadata": {},
     "output_type": "display_data"
    }
   ],
   "source": [
    "t = Test(hash_tag = \"GGGG\")\n",
    "print(t)"
   ]
  },
  {
   "cell_type": "code",
   "execution_count": 88,
   "metadata": {},
   "outputs": [],
   "source": [
    "from enum import Enum\n",
    "from typing import List, Tuple, Union\n",
    "\n",
    "class PolygonType(Enum):\n",
    "    triangle = 3\n",
    "    rectangle = 4\n",
    "    pentagon = 5\n",
    "    hexagon = 6"
   ]
  },
  {
   "cell_type": "code",
   "execution_count": 81,
   "metadata": {},
   "outputs": [],
   "source": [
    "t = PolygonType.triangle"
   ]
  },
  {
   "cell_type": "code",
   "execution_count": 82,
   "metadata": {},
   "outputs": [
    {
     "data": {
      "text/plain": [
       "(3, 'triangle')"
      ]
     },
     "execution_count": 82,
     "metadata": {},
     "output_type": "execute_result"
    }
   ],
   "source": [
    "t.value, t.name"
   ]
  },
  {
   "cell_type": "code",
   "execution_count": 94,
   "metadata": {},
   "outputs": [],
   "source": [
    "class PolygonModel(CustomeBaseModel):\n",
    "    polygon_type: PolygonType\n",
    "    vertices: List[Tuple[Union[int, float], Union[int, float]]]\n",
    "\n",
    "    @field_validator('vertices')\n",
    "    def validate_vertices(cls, value, values):\n",
    "        polygon_type = values\n",
    "        if polygon_type:\n",
    "            num_vertices_required = polygon_type.value\n",
    "            if len(value) != num_vertices_required:\n",
    "                raise ValueError(f\"For a {polygon_type.name}, excatly {polygon_type.value} vertices are required\")\n",
    "        return value\n",
    "                \n",
    "\n"
   ]
  },
  {
   "cell_type": "code",
   "execution_count": 95,
   "metadata": {},
   "outputs": [
    {
     "ename": "AttributeError",
     "evalue": "'pydantic_core._pydantic_core.ValidationInfo' object has no attribute 'value'",
     "output_type": "error",
     "traceback": [
      "\u001b[0;31m---------------------------------------------------------------------------\u001b[0m",
      "\u001b[0;31mAttributeError\u001b[0m                            Traceback (most recent call last)",
      "\u001b[1;32m/workspaces/pydantic-in-action/pydantic01.ipynb Cell 48\u001b[0m line \u001b[0;36m1\n\u001b[0;32m----> <a href='vscode-notebook-cell://codespaces%2Bcautious-space-trout-gvvx6xr6q429j5r/workspaces/pydantic-in-action/pydantic01.ipynb#Y100sdnNjb2RlLXJlbW90ZQ%3D%3D?line=0'>1</a>\u001b[0m PolygonModel(polygon_type \u001b[39m=\u001b[39;49m PolygonType\u001b[39m.\u001b[39;49mtriangle, vertices \u001b[39m=\u001b[39;49m [(\u001b[39m1\u001b[39;49m,\u001b[39m1\u001b[39;49m), (\u001b[39m2\u001b[39;49m,\u001b[39m2\u001b[39;49m), (\u001b[39m3\u001b[39;49m,\u001b[39m3\u001b[39;49m)])\n",
      "    \u001b[0;31m[... skipping hidden 1 frame]\u001b[0m\n",
      "\u001b[1;32m/workspaces/pydantic-in-action/pydantic01.ipynb Cell 48\u001b[0m line \u001b[0;36m9\n\u001b[1;32m      <a href='vscode-notebook-cell://codespaces%2Bcautious-space-trout-gvvx6xr6q429j5r/workspaces/pydantic-in-action/pydantic01.ipynb#Y100sdnNjb2RlLXJlbW90ZQ%3D%3D?line=6'>7</a>\u001b[0m polygon_type \u001b[39m=\u001b[39m values\n\u001b[1;32m      <a href='vscode-notebook-cell://codespaces%2Bcautious-space-trout-gvvx6xr6q429j5r/workspaces/pydantic-in-action/pydantic01.ipynb#Y100sdnNjb2RlLXJlbW90ZQ%3D%3D?line=7'>8</a>\u001b[0m \u001b[39mif\u001b[39;00m polygon_type:\n\u001b[0;32m----> <a href='vscode-notebook-cell://codespaces%2Bcautious-space-trout-gvvx6xr6q429j5r/workspaces/pydantic-in-action/pydantic01.ipynb#Y100sdnNjb2RlLXJlbW90ZQ%3D%3D?line=8'>9</a>\u001b[0m     num_vertices_required \u001b[39m=\u001b[39m polygon_type\u001b[39m.\u001b[39;49mvalue\n\u001b[1;32m     <a href='vscode-notebook-cell://codespaces%2Bcautious-space-trout-gvvx6xr6q429j5r/workspaces/pydantic-in-action/pydantic01.ipynb#Y100sdnNjb2RlLXJlbW90ZQ%3D%3D?line=9'>10</a>\u001b[0m     \u001b[39mif\u001b[39;00m \u001b[39mlen\u001b[39m(value) \u001b[39m!=\u001b[39m num_vertices_required:\n\u001b[1;32m     <a href='vscode-notebook-cell://codespaces%2Bcautious-space-trout-gvvx6xr6q429j5r/workspaces/pydantic-in-action/pydantic01.ipynb#Y100sdnNjb2RlLXJlbW90ZQ%3D%3D?line=10'>11</a>\u001b[0m         \u001b[39mraise\u001b[39;00m \u001b[39mValueError\u001b[39;00m(\u001b[39mf\u001b[39m\u001b[39m\"\u001b[39m\u001b[39mFor a \u001b[39m\u001b[39m{\u001b[39;00mpolygon_type\u001b[39m.\u001b[39mname\u001b[39m}\u001b[39;00m\u001b[39m, excatly \u001b[39m\u001b[39m{\u001b[39;00mpolygon_type\u001b[39m.\u001b[39mvalue\u001b[39m}\u001b[39;00m\u001b[39m vertices are required\u001b[39m\u001b[39m\"\u001b[39m)\n",
      "\u001b[0;31mAttributeError\u001b[0m: 'pydantic_core._pydantic_core.ValidationInfo' object has no attribute 'value'"
     ]
    }
   ],
   "source": [
    "PolygonModel(polygon_type = PolygonType.triangle, vertices = [(1,1), (2,2), (3,3)])"
   ]
  }
 ],
 "metadata": {
  "kernelspec": {
   "display_name": ".venv",
   "language": "python",
   "name": "python3"
  },
  "language_info": {
   "codemirror_mode": {
    "name": "ipython",
    "version": 3
   },
   "file_extension": ".py",
   "mimetype": "text/x-python",
   "name": "python",
   "nbconvert_exporter": "python",
   "pygments_lexer": "ipython3",
   "version": "3.10.8"
  }
 },
 "nbformat": 4,
 "nbformat_minor": 2
}
